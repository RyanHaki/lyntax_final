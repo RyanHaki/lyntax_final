{
 "cells": [
  {
   "cell_type": "markdown",
   "metadata": {},
   "source": [
    "## Early Planning for Create Performance Task\n",
    ">My groups brainsotrming for collage board tasks\n",
    "\n",
    "- toc: true\n",
    "- title: Create Performance task\n",
    "- branch: master\n",
    "- badges: true\n",
    "- comments: true\n",
    "- categories: [week_3]"
   ]
  },
  {
   "cell_type": "markdown",
   "metadata": {},
   "source": [
    "This is the beginning of planning for the Create Performance Task assignment. More will be added to this post as weeks go by until it is time to code.\n",
    "\n",
    "What I know that could help with the project:\n",
    "- How to make a quiz\n",
    "- How to create list\n",
    "- How to use dictionaries\n",
    "- Knowing what the code does and to be able to talk about it\n",
    "\n",
    "What I need to do for the project:\n",
    "- Look at examples of bad, good, and great Performance Task Projects\n",
    "- Learn how to display variables correctly\n",
    "- Learn how to use different functions\n",
    "- Look over the college board requirements"
   ]
  },
  {
   "cell_type": "markdown",
   "metadata": {},
   "source": [
    "Week 3-Brainstorming\n",
    "\n",
    "Purposes for a project:\n",
    "- test the user's senses\n",
    "- test the user's knowlegde of a given topic\n",
    "\n",
    "Ideas for the project:\n",
    "- A game that involves the user to use one of their 5 senses to complete a simple task quickly.\n",
    "- A quiz in a unique style; Jeopardy, Head to Head, or 5 seconds."
   ]
  }
 ],
 "metadata": {
  "kernelspec": {
   "display_name": "Python 3.8.10 64-bit",
   "language": "python",
   "name": "python3"
  },
  "language_info": {
   "name": "python",
   "version": "3.8.10"
  },
  "orig_nbformat": 4,
  "vscode": {
   "interpreter": {
    "hash": "916dbcbb3f70747c44a77c7bcd40155683ae19c65e1c03b4aa3499c5328201f1"
   }
  }
 },
 "nbformat": 4,
 "nbformat_minor": 2
}
