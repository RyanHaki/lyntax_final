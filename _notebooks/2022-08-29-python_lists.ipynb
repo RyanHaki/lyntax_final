{
 "cells": [
  {
   "cell_type": "markdown",
   "metadata": {},
   "source": [
    "# Lists\n",
    "An introduction to Data Abstraction using Python Lists [] and Python Dictionaries {}.\n",
    "\n",
    "- title: Python Lists and dictionaires Post\n",
    "- toc: true\n",
    "- comments: true\n",
    "- categories: [Week_2]"
   ]
  },
  {
   "cell_type": "markdown",
   "metadata": {},
   "source": [
    "## InfoDb\n",
    "\n",
    "InfoDb is a dictionary inside of a list. Here is an example code using InfoDb:"
   ]
  },
  {
   "cell_type": "code",
   "execution_count": 18,
   "metadata": {},
   "outputs": [
    {
     "name": "stdout",
     "output_type": "stream",
     "text": [
      "[{'FirstName': 'John', 'LastName': 'Mortensen', 'DOB': 'October 21', 'Residence': 'San Diego', 'Email': 'jmortensen@powayusd.com', 'Owns_Cars': ['2015-Fusion', '2011-Ranger', '2003-Excursion', '1997-F350', '1969-Cadillac']}, {'FirstName': 'Sunny', 'LastName': 'Naidu', 'DOB': 'August 2', 'Residence': 'Temecula', 'Email': 'snaidu@powayusd.com', 'Owns_Cars': ['4Runner']}, {'FirstName': 'Ryan', 'LastName': 'Hakimipour', 'DOB': 'June 15', 'Residence': 'San Diego', 'Email': 'hakimipourryan@gmail.com', 'Owns_Cars': ['None']}, {'FirstName': 'Soham', 'LastName': 'Kamat', 'DOB': 'March 9', 'Residence': 'San Diego', 'Email': 'sohamk10039@stu.powayusd.com', 'Owns_Cars': ['None']}]\n"
     ]
    }
   ],
   "source": [
    "InfoDb = []\n",
    "\n",
    "# Append to List a Dictionary of key/values related to a person and cars\n",
    "InfoDb.append({\n",
    "    \"FirstName\": \"John\",\n",
    "    \"LastName\": \"Mortensen\",\n",
    "    \"DOB\": \"October 21\",\n",
    "    \"Residence\": \"San Diego\",\n",
    "    \"Email\": \"jmortensen@powayusd.com\",\n",
    "    \"Owns_Cars\": [\"2015-Fusion\", \"2011-Ranger\", \"2003-Excursion\", \"1997-F350\", \"1969-Cadillac\"]\n",
    "})\n",
    "\n",
    "# Append to List a 2nd Dictionary of key/values\n",
    "InfoDb.append({\n",
    "    \"FirstName\": \"Sunny\",\n",
    "    \"LastName\": \"Naidu\",\n",
    "    \"DOB\": \"August 2\",\n",
    "    \"Residence\": \"Temecula\",\n",
    "    \"Email\": \"snaidu@powayusd.com\",\n",
    "    \"Owns_Cars\": [\"4Runner\"]\n",
    "})\n",
    "\n",
    "InfoDb.append({\n",
    "    \"FirstName\": \"Ryan\",\n",
    "    \"LastName\": \"Hakimipour\",\n",
    "    \"DOB\": \"June 15\",\n",
    "    \"Residence\": \"San Diego\",\n",
    "    \"Email\": \"hakimipourryan@gmail.com\",\n",
    "    \"Owns_Cars\": [\"None\"]\n",
    "})\n",
    "\n",
    "InfoDb.append({\n",
    "    \"FirstName\": \"Soham\",\n",
    "    \"LastName\": \"Kamat\",\n",
    "    \"DOB\": \"March 9\",\n",
    "    \"Residence\": \"San Diego\",\n",
    "    \"Email\": \"sohamk10039@stu.powayusd.com\",\n",
    "    \"Owns_Cars\": [\"None\"]\n",
    "})\n",
    "# Print the data structure\n",
    "print(InfoDb)"
   ]
  },
  {
   "cell_type": "markdown",
   "metadata": {},
   "source": [
    "\n",
    "## For Loops and Index\n",
    "   \n",
    "Using `for loops` and iterating through using `index` in python. Here is a simple example:\n",
    "   "
   ]
  },
  {
   "cell_type": "code",
   "execution_count": 1,
   "metadata": {},
   "outputs": [
    {
     "name": "stdout",
     "output_type": "stream",
     "text": [
      "Burger\n",
      "Hot Dog\n",
      "Fries\n",
      "Pizza\n",
      "Goldfish\n",
      "Donut\n",
      "M&M\n",
      "Beef Kebab\n",
      "Chicken Kebab\n",
      "Burrito\n",
      "Tacos\n",
      "Chicken Sandwich\n"
     ]
    }
   ],
   "source": [
    "Food = [\"Burger\", \"Hot Dog\", \"Fries\", \"Pizza\", \"Goldfish\", \"Donut\", \"M&M\", \"Beef Kebab\", \"Chicken Kebab\", \"Burrito\", \"Tacos\", \"Chicken Sandwich\"]\n",
    "for i in Food:\n",
    "    print(i)"
   ]
  },
  {
   "cell_type": "markdown",
   "metadata": {},
   "source": [
    "\n",
    "## Outputting in Reverse Order\n",
    "    \n",
    "It is possible to output data in a reverse order. Here is an example using a palindrome:\n",
    "   "
   ]
  },
  {
   "cell_type": "code",
   "execution_count": 16,
   "metadata": {},
   "outputs": [
    {
     "name": "stdout",
     "output_type": "stream",
     "text": [
      "olleh\n",
      "hello\n",
      "The provided word is not a palindrome.\n"
     ]
    }
   ],
   "source": [
    "def is_palindrome(prompt):\n",
    "    print(prompt[::-1])\n",
    "    print(prompt)\n",
    "    return prompt[::-1] == prompt\n",
    "\n",
    "word = input(\"Enter a word: \")\n",
    "if is_palindrome(word.lower()) is True:\n",
    "    print(\"{0} is a palindrome!\".format(word))\n",
    "else:\n",
    "    print(\"The provided word is not a palindrome.\")"
   ]
  },
  {
   "cell_type": "markdown",
   "metadata": {},
   "source": [
    "\n",
    "## Other list methods\n",
    "    \n",
    "Lists can have a variety of methods performed on them. A couple being `.append()` or `while loop`. Here is an example using `.append()` and `.lower()` with a `for loop`:\n",
    "   "
   ]
  },
  {
   "cell_type": "code",
   "execution_count": 17,
   "metadata": {},
   "outputs": [
    {
     "name": "stdout",
     "output_type": "stream",
     "text": [
      "['box jellyfish', 'african cape buffalo', 'black mamba', 'blue-ringed octopus', 'cone snail']\n"
     ]
    }
   ],
   "source": [
    "Dangerous_Animals = [\"Box Jellyfish\", \"African CAPE BuFfalo\", \"BLAck MambA\", \"Blue-RINGED octopus\"]\n",
    "Dangerous_Animals.append(\"Cone SnAIl\")\n",
    "for i in range(len(Dangerous_Animals)):\n",
    "    Dangerous_Animals[i] = Dangerous_Animals[i].lower()\n",
    "print(Dangerous_Animals)"
   ]
  },
  {
   "cell_type": "markdown",
   "metadata": {},
   "source": [
    "\n",
    "## Adding to a Dictionary\n",
    "  \n",
    "You can also add or create new keys and values to a dictionary data set. This can also be done with input. Here is an example:\n",
    "  "
   ]
  },
  {
   "cell_type": "code",
   "execution_count": 4,
   "metadata": {},
   "outputs": [
    {
     "name": "stdout",
     "output_type": "stream",
     "text": [
      "{'Absence': 'The lack or unavailability of something or someone.', 'Approval': 'Having a positive opinion of something or someone.', 'Answer': 'The response or receipt to a phone call, question, or letter.', 'Attention': 'Noticing or recognizing something of interest.', 'Amount': 'A mass or a collection of something.', 'Borrow': 'To take something with the intention of returning it after a period of time.', 'Baffle': 'An event or thing that is a mystery and confuses.', 'Ban': 'An act that is prohibited by social pressure or law.', 'Cars': 'Four-wheeled vehicles used for traveling.'}\n",
      "{'Absence': 'The lack or unavailability of something or someone.', 'Approval': 'Having a positive opinion of something or someone.', 'Answer': 'The response or receipt to a phone call, question, or letter.', 'Attention': 'Noticing or recognizing something of interest.', 'Amount': 'A mass or a collection of something.', 'Borrow': 'To take something with the intention of returning it after a period of time.', 'Baffle': 'An event or thing that is a mystery and confuses.', 'Ban': 'An act that is prohibited by social pressure or law.', 'Cars': 'Four-wheeled vehicles used for traveling.', 'Care': 'extra responsibility and attention.'}\n",
      "{'Absence': 'The lack or unavailability of something or someone.', 'Approval': 'Having a positive opinion of something or someone.', 'Answer': 'The response or receipt to a phone call, question, or letter.', 'Attention': 'Noticing or recognizing something of interest.', 'Amount': 'A mass or a collection of something.', 'Borrow': 'To take something with the intention of returning it after a period of time.', 'Baffle': 'An event or thing that is a mystery and confuses.', 'Ban': 'An act that is prohibited by social pressure or law.', 'Cars': 'Four-wheeled vehicles used for traveling.', 'Care': 'extra responsibility and attention.', 'Chip': 'Absence'}\n"
     ]
    }
   ],
   "source": [
    "My_Dict = {\n",
    "    \"Absence\": \"The lack or unavailability of something or someone.\",\n",
    "    \"Approval\": \"Having a positive opinion of something or someone.\",\n",
    "    \"Answer\": \"The response or receipt to a phone call, question, or letter.\",\n",
    "    \"Attention\": \"Noticing or recognizing something of interest.\",\n",
    "    \"Amount\": \"A mass or a collection of something.\",\n",
    "    \"Borrow\": \"To take something with the intention of returning it after a period of time.\",\n",
    "    \"Baffle\": \"An event or thing that is a mystery and confuses.\",\n",
    "    \"Ban\": \"An act that is prohibited by social pressure or law.\",\n",
    "    \"Cars\": \"Four-wheeled vehicles used for traveling.\",\n",
    "}\n",
    "print(My_Dict)\n",
    "My_Dict[\"Care\"] = \"extra responsibility and attention.\" #Added new key and value into dictionary\n",
    "print(My_Dict)\n",
    "My_Dict[\"Chip\"] = input() # Added new value with input\n",
    "print(My_Dict)"
   ]
  },
  {
   "cell_type": "markdown",
   "metadata": {},
   "source": [
    "\n",
    "## Python Quiz\n",
    "    \n",
    "Making a quiz that uses a list of dictionaries (InfoDb):\n",
    "   "
   ]
  },
  {
   "cell_type": "code",
   "execution_count": 15,
   "metadata": {},
   "outputs": [
    {
     "name": "stdout",
     "output_type": "stream",
     "text": [
      "Hello, you will be asked 5 short questions\n",
      "Question: What is the answer to this math problem: What does 45x7=\n",
      "Answer is correct\n",
      "Question: What is the most popular religion in the world?\n",
      "Answer is correct\n",
      "Question: What is the capital of the U.S?\n",
      "Answer is correct\n",
      "Question: How many kg is in 5g?\n",
      "Answer is correct\n",
      "Question: How many mm are in 1 km?\n",
      "Answer is incorrect\n",
      "You scored 4/5\n"
     ]
    }
   ],
   "source": [
    "def Python_Quiz(prompt):\n",
    "    global word\n",
    "    print (\"Question: \" + prompt)\n",
    "    word = input()\n",
    "    return word\n",
    "\n",
    "questions_number = 5\n",
    "correct_answer = 0\n",
    "\n",
    "print(\"Hello, you will be asked \" + str(questions_number) + \" short questions\")\n",
    "\n",
    "My_Quiz = [{\n",
    "    \"What is the answer to this math problem: What does 45x7=\": \"315\",\n",
    "    \"What is the most popular religion in the world?\": \"Christianity\",\n",
    "    \"What is the capital of the U.S?\": \"Washington D.C.\",\n",
    "    \"How many kg is in 5g?\": \"0.005 kg\",\n",
    "    \"How many mm are in 1 km?\": \"1000000 mm\",\n",
    "}]\n",
    "# My_Quiz.append({\n",
    "#     \"What is the answer to this math problem: What does 45x7=\": \"315\",\n",
    "#     \"What is the most popular religion in the world?\": \"Christianity\",\n",
    "#     \"What is the capital of the U.S?\": \"Washington D.C.\",\n",
    "#     \"How many kg is in 5g?\": \"0.005 kg\",\n",
    "#     \"How many mm are in 1 km?\": \"1000000 mm\",\n",
    "# })\n",
    "\n",
    "for dict in My_Quiz:\n",
    "    for questions, answers in dict.items():\n",
    "        Python_Quiz(questions)\n",
    "        if word == answers:\n",
    "            print(\"Answer is correct\")\n",
    "            correct_answer += 1\n",
    "        else:\n",
    "            print(\"Answer is incorrect\")\n",
    "\n",
    "print(\"You scored \" + str(correct_answer) + \"/\" + str(questions_number))"
   ]
  }
 ],
 "metadata": {
  "kernelspec": {
   "display_name": "Python 3.8.10 64-bit",
   "language": "python",
   "name": "python3"
  },
  "language_info": {
   "codemirror_mode": {
    "name": "ipython",
    "version": 3
   },
   "file_extension": ".py",
   "mimetype": "text/x-python",
   "name": "python",
   "nbconvert_exporter": "python",
   "pygments_lexer": "ipython3",
   "version": "3.8.10"
  },
  "orig_nbformat": 4,
  "vscode": {
   "interpreter": {
    "hash": "916dbcbb3f70747c44a77c7bcd40155683ae19c65e1c03b4aa3499c5328201f1"
   }
  }
 },
 "nbformat": 4,
 "nbformat_minor": 2
}
